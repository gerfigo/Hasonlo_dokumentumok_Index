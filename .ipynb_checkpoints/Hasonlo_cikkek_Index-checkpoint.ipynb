{
 "cells": [
  {
   "cell_type": "code",
   "execution_count": 1,
   "metadata": {
    "collapsed": true
   },
   "outputs": [],
   "source": [
    "import pickle\n",
    "docvecs = pickle.load( open( 'idf_docvecs_150_11_20sg.bin', \"rb\" ) )\n",
    "from sklearn.preprocessing import normalize\n",
    "norm_docvecs=normalize(docvecs)"
   ]
  },
  {
   "cell_type": "code",
   "execution_count": 2,
   "metadata": {},
   "outputs": [],
   "source": [
    "import pandas as pd\n",
    "df = pd.read_csv(\"index_articles.csv\")\n",
    "labels=df.category"
   ]
  },
  {
   "cell_type": "code",
   "execution_count": 3,
   "metadata": {},
   "outputs": [
    {
     "name": "stdout",
     "output_type": "stream",
     "text": [
      "1.0\n",
      "Kikotyogta a jelszavakat a wifis kávéfőző\n",
      "\n",
      "A fejlett világ egyik legnagyobb problémáját oldja meg az iKettle, a wifis kávéfőzőt ugyanis okostelefonnal tudjuk távirányítani, így másodpercekkel hamarabb el tudjuk készíteni a reggeli italunkat. Sajnos a konyhai eszköz nemcsak a tulajdonosát élénkíti, hanem a hekkerek érdeklődését is . A Pen Test Partners biztonsági szakértője néhány egyszerű eszközzel bejárta Londont, és az iKettle segítségével begyűjtötte a felhasználók otthoni wifijének a jelszavát. Magyarán a támadók a kávéfőzőn át fel tudják törni az otthoni hálózatunkat. Ken Munro azt nyilatkozta a Registernek, hogy elképesztően könnyű átvenni az irányítást a kávéfőző fölött. A támadónak csak megkeresi a lakáshoz tartozó hotspotot, ugyanazzal az SSID azonosítóval és egy erős antennával létrehozza a másolatát, és átküld egy csomagot, amitől a kávéfőző leszakad a hálózatról. Ezután a kávéfőző simán kiadja az eredeti otthoni hálózat wifi jelszavát, egyszerű szöveges formátumban. Az Androiddal használt iKettle könnyen törhető, mert a konfigurálás során megmarad a gyári jelszó, de az iOS sem sokkal biztonságosabb, mert a felhasználó által megadható, legfeljebb hatjegyű számsor órák alatt megfejthető.\n",
      "\n",
      "\n",
      "0.889219938502\n",
      "A hekkerek már tényleg a spájzban vannak\n",
      "\n",
      "Először úgy tűnik majd, hogy önálló életre keltek a dolgaink. Hajnalban csatakosra izzadva ébredünk az egész éjjel őrülten fűtő klímától, a robotporszívó bekapcsolja magát és feldönt mindent, ami az útjába kerül. Kávéval próbálnánk túlélni a katasztrófát, hiába keresünk hozzá tejet, a leolvasztó üzemmódban reggelre minden tönkrement. Végül a túlöntözött pázsiton áttocsogva kell kimennünk a tárva nyitva lévő kapuhoz, mert már vár minket a futár háromszáz kiló müzlivel, amire a hűtőnk adta fel a rendelést. Amikor megpróbálunk utánajárni, hogy mi történhetett, akkor szembesülünk vele, hogy az éjszakai rombolásról készült felvételt, amit a biztonsági kameráink vettek fel, már ötvenen lájkolták a saját Youtube-csatornánkon. Vad jövőkép, de mindez tényleg megtörténhet , és valójában nem a gépeik lesznek intelligensek, hanem azok a hekkerek, akik megtámadják ezeket az védtelen eszközöket. A Hewlett-Packard friss vizsgálata legalábbis azt állapította meg, hogy a dolgok internete (Internet of Things) nagyon veszélyes terület, mert az eszközök biztonságával senki sem törődik. A tíz legnépszerűbb kütyüben összesen 250 biztonsági hibát találtak, ami elég rémisztő: eszközönként átlagosan 25 támadási felület. A HP nem nevez meg konkrét termékeket, de mindent vizsgáltak: okostévét, webkamerát, ajtózárat, riasztót, garázsnyitót, termosztátot és központi vezérlőket. Ezek általában valamilyen lebutított Linux operációs rendszer futtatnak, és akik ezeket a kütyüket gyártják, nem foglalkoznak a védelemmel olyan szinten, mint azok, akik a Linuxot egy szerverre vagy asztali gépre telepítik fel. Mik voltak a problémák? nyolc eszköznek egyszerű, négy számjegyű kód volt a jelszava hét eszköz titkosítás nélkül kommunikált az interneten hatot fel lehetett törni egyszerű módszerekkel másik hat esetében titkosítatlan volt a frissítés, vagyis ezekre a támadók hamis szoftvert is fel tudnak telepíteni Nemcsak arról van szó, hogy ezek az internetre kötött eszközök a fizikai valóságban tudnak károkat okozni, de tízből kilenc még személyes adatokat is gyűjt a felhasználóról: emailcímet, nevet, lakcímet vagy születési dátumot. Vigyázni kell, mert könnyen lehet, hogy legközelebb a hekkerek nem a routeren, hanem szó szerint az ajtónkon át fognak behatolni a lakásunkba.\n",
      "\n",
      "\n",
      "0.878156792428\n",
      "Veszélyesek a memóriakártyák\n",
      "\n",
      "Bunnie Huang hardverhekker a Chaos Computer Club Congress rendezvényen tartott beszédében egy jó és egy rossz hírrel szolgált a hallgatóságnak: szerinte a telefonokban és kamerákban is használt memóriakártyák elkeserítően veszélyesek és megbízhatatlanok, de (éppen emiatt) erős mikrokontrollerek (vezérlésre kialakított célszámítógépek) vannak bennük, és ezt a számítógéphekkerek jól ki tudják használni. Huang részletes blogbejegyzésben tárgyalja, mi a konkrét probléma a memóriakártyákkal. Hogy csökkentsék az árakat és megnöveljék a tárolási kapacitást, a mérnököknek soha véget nem érő entrópiával (rendezetlenséggel) kell megküzdeniük, ami lassan, de biztosan minden adatot tönkretesz a memóriakártyán. Huang szerint a Flash-memória nagyon olcsó, annyira, hogy az már nem is lehet igaz: a valóságban ezek a memóriák, kivétel nélkül, mind hibásak. A megbízható tárolás illúzió, és csak a kifinomult hibajavítási funkcióknak köszönhető, hogy épségben megmaradnak a tárolt információk. Minden lépéssel, amivel a memória olcsóbb lesz, egyben megbízhatatlanabbá is válik, ezért a mérnökök egyre komolyabb algoritmusokkal próbálják rendben tartani az adatokat. A hekker szerint a gyártók túlbiztosítják a memóriákat a hibák ellen, hogy megfelelő adattárolást tudjanak biztosítani, ezért van az adattárolókon nagyon jó mikrokontroller. A kártyákon lévő firmware (mini operációs rendszer) sok mindenre képes, például meg tudja változtatni a látható tárolókapacitást anélkül, hogy a valódi kapacitás megváltozna. Ez lehetővé teszi a csalást is, mert úgy lehet eladni 2 gigabájtos kártyákat, hogy azokat a számítógép vagy a kamera 4 gigabájtosként észleli. Csak az adattároló megtöltésekor derül ki, hogy valójában nincs is rajta több hely. A legrosszabb pedig, hogy ez a firmware nagyon könnyen, és nem túl biztonságos módon frissíthető. Ezt akár kártékony célokra is felhasználhatják, például telepíthetnek rá vírusokat, hogy rávehetik a kártyát, hogy titkos másolatot készítsen minden rajta tárolt adatról, így azok törlés után is megmaradnak. A jó hír az, hogy ezek a mikrokontrollerek újraprogramozhatók, így a jóindulatú hekkerek is viszonylag olcsón juthatnak hozzá egy nagy tárkapacitású vezérlőegységhez. Aki pedig teljesen meg akarja semmisíteni a memóriakártyán tárolt kellemetlen információkat, az jobban teszi, ha kalapáccsal zúzza szét az adattárolót.\n",
      "\n",
      "\n",
      "0.876878261644\n",
      "Facebookra fel, Facebookról le\n",
      "\n",
      "Idén novemberben megtörtént az áttörés , a Facebook hazánkban is piacvezető közösségi portállá vált. Mások is rákapaszkodtak a világszerte sikeressé vált Facebookra, és ma már természetes, hogy a mobilokról feltölthetünk fotókat. Főleg pixeles és elmosódott fotókat. A fényképezőgépek még mindig sokkal jobb fotókat készítenek, mint a mobilok, és már ezek is tudnak rögtön a Facebookra tölteni. Már a húszezer forintos alsókategóriás fényképezőkben is megtalálható a beépített Facebook-megosztás, de ezek a kütyük nem közvetlenül csatlakoznak az internetre, hanem a számítógép segítségével töltik fel a kiválasztott fotókat. Valamivel egyszerűbben használható feltöltőeszköz az apró Eye-Fi memóriakártya, amelyben a 4 vagy 8 GB-os tárterület mellett wifiadapter van. A tizenhat gyártó több száz kamerájával kompatibilis SD-kártya néhány lépésben beállítható a számítógépen, és ezután a fényképezőbe dugva közvetlenül az internetre tölti fel a képeket. Feltéve, hogy van a közelben wifi hotspot. Húszféle portálra lehet képeket tölteni, köztük van a Facebook, Flickr és Picasa, a Kodak Gallery és a MobileMe is. Az Eye-Fi legnagyobb előnye, hogy profi tükörreflexes kamerákkal is használható, tehát egészen biztosan nem kell lemondani a minőségről a mobilitás javára. A képek megnézéséhez sincs szükség számítógépre, hiszen wifis vagy vezetékes netkapcsolattal ellátott tévék, médialejátszók és képkeretek is kezelnek egy-egy online szolgáltatást. A wifis tévékkel még nem vagyunk tökéletesen elégedettek, mert a webes tartalmat kezelő rendszerük kicsit lomha. Egy perc alatt megérkezett a képkeretre a képkeretről készült kép. Mobilról küldve. Képkerettel viszont még nem volt problémánk. Az általunk kipróbált Kodak Pulse két perc alatt beállítható, gyorsan leszedi a kiválasztott képeket a Facebookról, és emailben is fogad képeket (kb. egy perc alatt megérkezik). Héthüvelykes érintőkijelzővel szerelt változata 25 ezer forint. A drágább, 50-60 forintos modelleknél már érdemes megfontolni, hogy képkeretet veszünk-e, vagy kicsit több pénzért egy egyszerűbb táblagépet, amely nemcsak tartalmakat fogad, hanem webböngészésre, emailezésre és programok futtatására is alkalmas.\n",
      "\n",
      "\n"
     ]
    },
    {
     "data": {
      "text/plain": [
       "'\\n0\\n69\\n98\\n99\\n100\\n'"
      ]
     },
     "execution_count": 3,
     "metadata": {},
     "output_type": "execute_result"
    }
   ],
   "source": [
    "vizsgalando_cikk_sorszama=69\n",
    "hany_talalatot_mutasson=3\n",
    "df_docvecs=pd.DataFrame(norm_docvecs)\n",
    "similarities=df_docvecs.dot(norm_docvecs[vizsgalando_cikk_sorszama])\n",
    "indices=similarities.nlargest(hany_talalatot_mutasson+1).index\n",
    "sim_score=similarities.nlargest(hany_talalatot_mutasson+1).values\n",
    "for i,s in zip(indices,sim_score):\n",
    "    print(s)\n",
    "    print(df.text[i]+'\\n\\n')\n",
    "'''\n",
    "0\n",
    "69\n",
    "98\n",
    "99\n",
    "100\n",
    "'''"
   ]
  },
  {
   "cell_type": "code",
   "execution_count": null,
   "metadata": {
    "collapsed": true
   },
   "outputs": [],
   "source": []
  }
 ],
 "metadata": {
  "kernelspec": {
   "display_name": "Python 3",
   "language": "python",
   "name": "python3"
  },
  "language_info": {
   "codemirror_mode": {
    "name": "ipython",
    "version": 3
   },
   "file_extension": ".py",
   "mimetype": "text/x-python",
   "name": "python",
   "nbconvert_exporter": "python",
   "pygments_lexer": "ipython3",
   "version": "3.5.4"
  }
 },
 "nbformat": 4,
 "nbformat_minor": 2
}
