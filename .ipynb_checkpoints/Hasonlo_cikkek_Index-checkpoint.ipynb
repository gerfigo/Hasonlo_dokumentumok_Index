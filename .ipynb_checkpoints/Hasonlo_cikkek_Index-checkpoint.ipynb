{
 "cells": [
  {
   "cell_type": "code",
   "execution_count": 1,
   "metadata": {
    "collapsed": true
   },
   "outputs": [],
   "source": [
    "import pickle\n",
    "docvecs = pickle.load( open( 'idf_docvecs_150_11_20sg.bin', \"rb\" ) )\n",
    "from sklearn.preprocessing import normalize\n",
    "norm_docvecs=normalize(docvecs)"
   ]
  },
  {
   "cell_type": "code",
   "execution_count": 2,
   "metadata": {},
   "outputs": [],
   "source": [
    "import pandas as pd\n",
    "df = pd.read_csv(\"index_articles.csv\")\n",
    "labels=df.category"
   ]
  },
  {
   "cell_type": "markdown",
   "metadata": {},
   "source": [
    "A következő cellában lehet tesztelni a hasonló cikkeket, az első két változó módosításával. Az első cikk, amit kiír, az az, amihez hasonlót kerestél."
   ]
  },
  {
   "cell_type": "code",
   "execution_count": 5,
   "metadata": {},
   "outputs": [
    {
     "name": "stdout",
     "output_type": "stream",
     "text": [
      "1.0\n",
      "Lángoló kamion miatt zárták le az M5-öst Szeged felé\n",
      "\n",
      "Teljes terjedelmében ég egy kamion szombat kora este az M5-ös autópálya Szeged, illetve Röszke felé vezető oldalán, a 48-as kilométernél, ami miatt a sztráda érintett oldalát teljes szélességében lezárták, írja honlapján a Katasztrófavédelem . A tűzhöz Dabasról érkeztek ki a hivatásos tűzoltók, akik három vízsugárral kezdték meg a lángok oltását. A Pest Megyei Katasztrófavédelmi Igazgatóság szóvivője azt közölte az MTI-vel, hogy a fülke teljes terjedelmében ég, a tűz pedig átterjedt a vontatványra is. Egyelőre nem tudni, hogy mit szállított a jármű.\n",
      "\n",
      "\n",
      "0.938996027639\n",
      "Kigyulladt egy kamion, lezárták az M0-st\n",
      "\n",
      "Kigyulladt egy kamion szerda délután az M0-s körgyűrű XXII. kerületi szakaszán. Az M5-ös autópálya felé vezető oldalon, a Duna-híd előtti szakaszon a rendőrök mindkét sávot lezárták - közölte a Fővárosi Katasztrófavédelmi Igazgatóság szóvivője az MTI-vel. A tűzoltók megkezdték az oltást, a kamion raktere üres, sérültről a tűzoltóknak nincs információjuk.\n",
      "\n",
      "\n",
      "0.938260489542\n",
      "Égett egy panzió a 4-es főút mellett\n",
      "\n",
      "Eloltották azt a tüzet, amelyik a 4-es főút Nyíregyháza és Újfehértó közötti szakaszán lévő panzióban keletkezett szerdára virradó éjjel, az útzárat is feloldották – közölte Tóth Gabriella, a Szabolcs-Szatmár-Bereg megyei katasztrófavédelmi igazgatóság hivatalvezetője. Fotó: Balázs Attila A vendéglátóhely teljes terjedelmében égett, de az ötös fokozatú riasztás keretében a helyszínre nagy erőkkel kiérkező tűzoltóknak sikerült a lángokat megfékezniük. A főút 264-es kilométerénél lévő fogadóban fél kettő körül csaptak fel a lángok. Szállóvendégek nem voltak benne, a vendéglátóhely éttermi része pedig még kedd este bezárt. A tűzről a személyzet értesítette a katasztrófavédelmet. Senki sem sérült meg, a tűz okát tűzvizsgáló bevonásával vizsgálják.\n",
      "\n",
      "\n"
     ]
    },
    {
     "data": {
      "text/plain": [
       "'\\nÉrdekesek (Nem teljeskörű):\\n0\\n69\\n98\\n99\\n100\\n'"
      ]
     },
     "execution_count": 5,
     "metadata": {},
     "output_type": "execute_result"
    }
   ],
   "source": [
    "vizsgalando_cikk_sorszama=0\n",
    "hany_talalatot_mutasson=2\n",
    "df_docvecs=pd.DataFrame(norm_docvecs)\n",
    "similarities=df_docvecs.dot(norm_docvecs[vizsgalando_cikk_sorszama])\n",
    "indices=similarities.nlargest(hany_talalatot_mutasson+1).index\n",
    "sim_score=similarities.nlargest(hany_talalatot_mutasson+1).values\n",
    "for i,s in zip(indices,sim_score):\n",
    "    print(s)\n",
    "    print(df.text[i]+'\\n\\n')\n",
    "'''\n",
    "Érdekesek (Nem teljeskörű):\n",
    "0\n",
    "69\n",
    "98\n",
    "99\n",
    "100\n",
    "'''"
   ]
  },
  {
   "cell_type": "code",
   "execution_count": null,
   "metadata": {
    "collapsed": true
   },
   "outputs": [],
   "source": []
  }
 ],
 "metadata": {
  "kernelspec": {
   "display_name": "Python 3",
   "language": "python",
   "name": "python3"
  },
  "language_info": {
   "codemirror_mode": {
    "name": "ipython",
    "version": 3
   },
   "file_extension": ".py",
   "mimetype": "text/x-python",
   "name": "python",
   "nbconvert_exporter": "python",
   "pygments_lexer": "ipython3",
   "version": "3.5.4"
  }
 },
 "nbformat": 4,
 "nbformat_minor": 2
}
